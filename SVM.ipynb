{
 "cells": [
  {
   "cell_type": "code",
   "execution_count": 1,
   "id": "f6b576a6",
   "metadata": {},
   "outputs": [],
   "source": [
    "import numpy as np\n",
    "import pandas as pd\n"
   ]
  },
  {
   "cell_type": "code",
   "execution_count": 2,
   "id": "ff10f350",
   "metadata": {},
   "outputs": [],
   "source": [
    "train_df = pd.read_csv('train_data.csv')"
   ]
  },
  {
   "cell_type": "code",
   "execution_count": 3,
   "id": "18c9231c",
   "metadata": {},
   "outputs": [],
   "source": [
    "test_df = pd.read_csv('test_data.csv')"
   ]
  },
  {
   "cell_type": "code",
   "execution_count": 4,
   "id": "aaf57854",
   "metadata": {},
   "outputs": [],
   "source": [
    "from gensim.models import Word2Vec\n",
    "from nltk.tokenize import word_tokenize"
   ]
  },
  {
   "cell_type": "code",
   "execution_count": 5,
   "id": "e665d44c",
   "metadata": {},
   "outputs": [],
   "source": [
    "# Tokenize sentences into words\n",
    "tokenized_sentences = [word_tokenize(sentence.lower()) for sentence in train_df['tweet'].astype(str)]\n",
    "\n",
    "# Train Word2Vec model\n",
    "w2v_model = Word2Vec(sentences=tokenized_sentences, vector_size=100, window=5, min_count=1, workers=4)\n",
    "\n",
    "# Save or load the model\n",
    "w2v_model.save(\"word2vec_model.model\")\n",
    "# w2v_model = Word2Vec.load(\"word2vec_model.model\")\n",
    "\n",
    "# Get the word vectors\n",
    "word_vectors = w2v_model.wv"
   ]
  },
  {
   "cell_type": "code",
   "execution_count": 6,
   "id": "dd723b90",
   "metadata": {},
   "outputs": [],
   "source": [
    "def vectorize(sentence):\n",
    "    words = sentence.split()\n",
    "    words_vecs = [w2v_model.wv[word] for word in words if word in w2v_model.wv]\n",
    "    if len(words_vecs) == 0:\n",
    "        return np.zeros(100)\n",
    "    words_vecs = np.array(words_vecs)\n",
    "    return words_vecs.mean(axis=0)\n",
    "\n",
    "X_train = np.array([vectorize(str(sentence)) for sentence in train_df['tweet']])\n",
    "X_test = np.array([vectorize(str(sentence)) for sentence in test_df['tweet']])"
   ]
  },
  {
   "cell_type": "code",
   "execution_count": 7,
   "id": "6e421ff5",
   "metadata": {},
   "outputs": [],
   "source": [
    "Y_train = train_df['decision']"
   ]
  },
  {
   "cell_type": "code",
   "execution_count": 8,
   "id": "3f12c829",
   "metadata": {},
   "outputs": [],
   "source": [
    "Y_test = test_df['decision']"
   ]
  },
  {
   "cell_type": "code",
   "execution_count": 9,
   "id": "02214d54",
   "metadata": {},
   "outputs": [],
   "source": [
    "from sklearn import svm\n",
    "\n",
    "#Create a svm Classifier\n",
    "clf = svm.SVC(kernel='rbf', C=1.0, gamma='scale', decision_function_shape='ovr') # Linear Kernel\n",
    "\n",
    "#Train the model using the training sets\n",
    "clf.fit(X_train, Y_train)\n",
    "\n",
    "#Predict the response for test dataset\n",
    "Y_pred = clf.predict(X_test)"
   ]
  },
  {
   "cell_type": "code",
   "execution_count": 10,
   "id": "b94d87a8",
   "metadata": {},
   "outputs": [
    {
     "name": "stdout",
     "output_type": "stream",
     "text": [
      "Accuracy: 0.7404637588636311\n"
     ]
    }
   ],
   "source": [
    "from sklearn.metrics import accuracy_score, precision_score, recall_score, f1_score\n",
    "\n",
    "print('Accuracy:', accuracy_score(Y_test, Y_pred))"
   ]
  },
  {
   "cell_type": "code",
   "execution_count": 11,
   "id": "850042e4",
   "metadata": {},
   "outputs": [
    {
     "name": "stdout",
     "output_type": "stream",
     "text": [
      "0.7429559171197867 0.7183387672051681 0.7404637588636311\n"
     ]
    }
   ],
   "source": [
    "precision = precision_score(Y_test, Y_pred, average='weighted')\n",
    "f1 = f1_score(Y_test, Y_pred, average='weighted')\n",
    "recall = recall_score(Y_test, Y_pred, average='weighted')\n",
    "print(precision, f1, recall)"
   ]
  },
  {
   "cell_type": "code",
   "execution_count": 12,
   "id": "4b194cb8",
   "metadata": {},
   "outputs": [],
   "source": [
    "from sklearn.metrics import classification_report"
   ]
  },
  {
   "cell_type": "code",
   "execution_count": 13,
   "id": "f895dfef",
   "metadata": {},
   "outputs": [],
   "source": [
    "report = classification_report(Y_test, Y_pred, target_names=['negative','neutral','positive'])"
   ]
  },
  {
   "cell_type": "code",
   "execution_count": 14,
   "id": "33e39b83",
   "metadata": {},
   "outputs": [
    {
     "name": "stdout",
     "output_type": "stream",
     "text": [
      "              precision    recall  f1-score   support\n",
      "\n",
      "    negative       0.75      0.29      0.41      8038\n",
      "     neutral       0.76      0.75      0.76     13637\n",
      "    positive       0.73      0.90      0.80     22184\n",
      "\n",
      "    accuracy                           0.74     43859\n",
      "   macro avg       0.75      0.65      0.66     43859\n",
      "weighted avg       0.74      0.74      0.72     43859\n",
      "\n"
     ]
    }
   ],
   "source": [
    "print(report)"
   ]
  }
 ],
 "metadata": {
  "kernelspec": {
   "display_name": "Python 3 (ipykernel)",
   "language": "python",
   "name": "python3"
  },
  "language_info": {
   "codemirror_mode": {
    "name": "ipython",
    "version": 3
   },
   "file_extension": ".py",
   "mimetype": "text/x-python",
   "name": "python",
   "nbconvert_exporter": "python",
   "pygments_lexer": "ipython3",
   "version": "3.10.9"
  }
 },
 "nbformat": 4,
 "nbformat_minor": 5
}
